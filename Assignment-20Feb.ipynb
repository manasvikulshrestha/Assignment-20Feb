{
 "cells": [
  {
   "cell_type": "markdown",
   "id": "0aeaee92-71c1-4e6b-b09a-5562e8d2f777",
   "metadata": {},
   "source": [
    "Q1. Explain GET and POST methods.\n",
    "A1. \n",
    "# The GET Method\n",
    "GET is used to request data from a specified resource.\n",
    "Some notes on GET requests:\n",
    "- GET requests can be cached\n",
    "- GET requests remain in the browser history\n",
    "- GET requests can be bookmarked\n",
    "- GET requests should never be used when dealing with sensitive data\n",
    "- GET requests have length restrictions\n",
    "- GET requests are only used to request data (not modify)\n",
    "\n",
    "# The POST Method\n",
    "POST is used to send data to a server to create/update a resource.\n",
    "Some notes on POST requests:\n",
    "- POST requests are never cached\n",
    "- POST requests do not remain in the browser history\n",
    "- POST requests cannot be bookmarked\n",
    "- POST requests have no restrictions on data length"
   ]
  },
  {
   "cell_type": "markdown",
   "id": "b331eb1e-babe-4670-8ea4-6090df545b51",
   "metadata": {},
   "source": [
    "Q2. Why is request used in Flask?\n",
    "A2. In a Flask App, we have our own Webpage (Client) and a Server. The Server should process the data.  The Request, in Flask, is an object that contains all the data sent from the Client to Server. This data can be recovered using the GET/POST Methods. POST is used when your application expects user input to be received by command or an HTTP request, while GET gets all the information before it even has a chance for submission. Using both methods at once gives perfect freedom but still requires complex UI patterns like AJAX calls etc, with most common applications being frameworks where multiple forms are necessary such as Slack Webhooks, MailgunMailserver, and eCommerce Commerce Framework. With Flask-Request class instead, we don’t have any need anymore since this API allows us flexible handling of many other situations.\n",
    "There are various attributes associated with the request objects. They are Form, Cookies, Args, Files, and Method. \n",
    "The form is used to create and return the form data from other application codes like JSP API or POST. This attribute allows you to specify predefined custom parameters when creating HTTP requests for your service (like “GET /info” ) which can be given as string values without any format validation etc. \n",
    "The cookies property contains cookie contents that will allow the client to access a piece of information about users’ details through the Cookie header field of returned JSON Object Content Type Information. "
   ]
  },
  {
   "cell_type": "markdown",
   "id": "dad4179f-927b-4287-a74e-fd3d6ef8afc7",
   "metadata": {},
   "source": [
    "Q3. Why is redirect() used in Flask?\n",
    "A3. A redirect is used in the Flask class to send the user to a particular URL with the status code. conversely, this status code additionally identifies the issue. When we access a website, our browser sends a request to the server, and the server replies with what is known as the HTTP status code, which is a three-digit number.\n",
    "\n",
    "# Example\n",
    "\n",
    "from flask import Flask, redirect\n",
    "\n",
    "app = Flask(__name__)\n",
    "\n",
    "@app.route(\"/\")\n",
    "def home():\n",
    "\treturn redirect(\"/helloworld\")\n",
    "\n",
    "@app.route(\"/helloworld\")\n",
    "def hello_world():\n",
    "\treturn \"<p>Hello, World from \\\n",
    "\t\t\t\tredirected page.!</p>\"\n",
    "\n",
    "if __name__ == '__main__':\n",
    "\tapp.run(debug=True)"
   ]
  },
  {
   "cell_type": "markdown",
   "id": "7a2c067a-51bd-4d08-a21a-36f94d5e30cb",
   "metadata": {},
   "source": [
    "Q4. What are templates in Flask? Why is the render_template() function used?\n",
    "A4. Templates are files that contain static data as well as placeholders for dynamic data. A template is rendered with specific data to produce a final document. Flask uses the Jinja template library to render templates.\n",
    "In your application, you will use templates to render HTML which will display in the user’s browser. In Flask, Jinja is configured to autoescape any data that is rendered in HTML templates. This means that it’s safe to render user input; any characters they’ve entered that could mess with the HTML, such as < and > will be escaped with safe values that look the same in the browser but don’t cause unwanted effects.\n",
    "Jinja looks and behaves mostly like Python. Special delimiters are used to distinguish Jinja syntax from the static data in the template. Anything between {{ and }} is an expression that will be output to the final document. {% and %} denotes a control flow statement like if and for. Unlike Python, blocks are denoted by start and end tags rather than indentation since static text within a block could change indentation.\n",
    "Flask facilitates us to render the external HTML file instead of hardcoding the HTML in the view function. Here, we can take advantage of the jinja2 template engine on which the flask is based.\n",
    "Flask provides us the render_template() function which can be used to render the external HTML file to be returned as the response from the view function."
   ]
  },
  {
   "cell_type": "markdown",
   "id": "08c980ee-0a69-4d13-be23-707756d3a5be",
   "metadata": {},
   "source": [
    "Q5. Create a simple API. Use Postman to test it. Attach the screenshot of the output in the Jupyter Notebook.\n"
   ]
  }
 ],
 "metadata": {
  "kernelspec": {
   "display_name": "Python 3 (ipykernel)",
   "language": "python",
   "name": "python3"
  },
  "language_info": {
   "codemirror_mode": {
    "name": "ipython",
    "version": 3
   },
   "file_extension": ".py",
   "mimetype": "text/x-python",
   "name": "python",
   "nbconvert_exporter": "python",
   "pygments_lexer": "ipython3",
   "version": "3.10.8"
  }
 },
 "nbformat": 4,
 "nbformat_minor": 5
}
